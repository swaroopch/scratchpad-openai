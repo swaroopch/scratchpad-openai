{
 "cells": [
  {
   "attachments": {},
   "cell_type": "markdown",
   "metadata": {},
   "source": [
    "# Using a vector database\n",
    "\n",
    "- https://github.com/openai/openai-cookbook/blob/main/examples/vector_databases/qdrant/Getting_started_with_Qdrant_and_OpenAI.ipynb\n",
    "- https://github.com/openai/openai-cookbook/blob/main/examples/vector_databases/qdrant/QA_with_Langchain_Qdrant_and_OpenAI.ipynb"
   ]
  },
  {
   "attachments": {},
   "cell_type": "markdown",
   "metadata": {},
   "source": [
    "## Which vector database shall we try?\n",
    "\n",
    "- https://platform.openai.com/docs/guides/embeddings/how-can-i-retrieve-k-nearest-embedding-vectors-quickly"
   ]
  },
  {
   "cell_type": "code",
   "execution_count": 1,
   "metadata": {},
   "outputs": [
    {
     "name": "stdout",
     "output_type": "stream",
     "text": [
      "{\"title\":\"qdrant - vector search engine\",\"version\":\"1.1.1\"}"
     ]
    }
   ],
   "source": [
    "! curl http://localhost:6333"
   ]
  },
  {
   "attachments": {},
   "cell_type": "markdown",
   "metadata": {},
   "source": [
    "## Connect to Qdrant"
   ]
  },
  {
   "cell_type": "code",
   "execution_count": 2,
   "metadata": {},
   "outputs": [],
   "source": [
    "import qdrant_client\n",
    "\n",
    "client = qdrant_client.QdrantClient(\n",
    "    host=\"localhost\",\n",
    "    prefer_grpc=True,\n",
    ")"
   ]
  },
  {
   "cell_type": "code",
   "execution_count": 3,
   "metadata": {},
   "outputs": [
    {
     "data": {
      "text/plain": [
       "CollectionsResponse(collections=[])"
      ]
     },
     "execution_count": 3,
     "metadata": {},
     "output_type": "execute_result"
    }
   ],
   "source": [
    "client.get_collections()"
   ]
  },
  {
   "attachments": {},
   "cell_type": "markdown",
   "metadata": {},
   "source": [
    "## Prepare embeddings"
   ]
  },
  {
   "cell_type": "code",
   "execution_count": 4,
   "metadata": {},
   "outputs": [
    {
     "data": {
      "text/html": [
       "<div>\n",
       "<style scoped>\n",
       "    .dataframe tbody tr th:only-of-type {\n",
       "        vertical-align: middle;\n",
       "    }\n",
       "\n",
       "    .dataframe tbody tr th {\n",
       "        vertical-align: top;\n",
       "    }\n",
       "\n",
       "    .dataframe thead th {\n",
       "        text-align: right;\n",
       "    }\n",
       "</style>\n",
       "<table border=\"1\" class=\"dataframe\">\n",
       "  <thead>\n",
       "    <tr style=\"text-align: right;\">\n",
       "      <th></th>\n",
       "      <th>title</th>\n",
       "      <th>text</th>\n",
       "    </tr>\n",
       "  </thead>\n",
       "  <tbody>\n",
       "    <tr>\n",
       "      <th>0</th>\n",
       "      <td>Titanic (1997 film)</td>\n",
       "      <td>Titanic is a 1997 American epic romance and di...</td>\n",
       "    </tr>\n",
       "    <tr>\n",
       "      <th>1</th>\n",
       "      <td>Dilwale Dulhania Le Jayenge</td>\n",
       "      <td>Dilwale Dulhania Le Jayenge (transl. \"The Big-...</td>\n",
       "    </tr>\n",
       "    <tr>\n",
       "      <th>2</th>\n",
       "      <td>Kung Fu Hustle</td>\n",
       "      <td>Kung Fu Hustle (Chinese: 功夫; lit. 'Kung Fu') i...</td>\n",
       "    </tr>\n",
       "    <tr>\n",
       "      <th>3</th>\n",
       "      <td>Dil Chahta Hai</td>\n",
       "      <td>Dil Chahta Hai (transl. The Heart Desires) is ...</td>\n",
       "    </tr>\n",
       "    <tr>\n",
       "      <th>4</th>\n",
       "      <td>The Matrix</td>\n",
       "      <td>The Matrix is a 1999 science fiction action fi...</td>\n",
       "    </tr>\n",
       "  </tbody>\n",
       "</table>\n",
       "</div>"
      ],
      "text/plain": [
       "                         title   \n",
       "0          Titanic (1997 film)  \\\n",
       "1  Dilwale Dulhania Le Jayenge   \n",
       "2               Kung Fu Hustle   \n",
       "3               Dil Chahta Hai   \n",
       "4                   The Matrix   \n",
       "\n",
       "                                                text  \n",
       "0  Titanic is a 1997 American epic romance and di...  \n",
       "1  Dilwale Dulhania Le Jayenge (transl. \"The Big-...  \n",
       "2  Kung Fu Hustle (Chinese: 功夫; lit. 'Kung Fu') i...  \n",
       "3  Dil Chahta Hai (transl. The Heart Desires) is ...  \n",
       "4  The Matrix is a 1999 science fiction action fi...  "
      ]
     },
     "execution_count": 4,
     "metadata": {},
     "output_type": "execute_result"
    }
   ],
   "source": [
    "import pandas as pd\n",
    "\n",
    "df = pd.read_parquet(\"scraped.parquet\")\n",
    "\n",
    "df.head()"
   ]
  },
  {
   "cell_type": "code",
   "execution_count": 5,
   "metadata": {},
   "outputs": [
    {
     "data": {
      "text/html": [
       "<div>\n",
       "<style scoped>\n",
       "    .dataframe tbody tr th:only-of-type {\n",
       "        vertical-align: middle;\n",
       "    }\n",
       "\n",
       "    .dataframe tbody tr th {\n",
       "        vertical-align: top;\n",
       "    }\n",
       "\n",
       "    .dataframe thead th {\n",
       "        text-align: right;\n",
       "    }\n",
       "</style>\n",
       "<table border=\"1\" class=\"dataframe\">\n",
       "  <thead>\n",
       "    <tr style=\"text-align: right;\">\n",
       "      <th></th>\n",
       "      <th>title</th>\n",
       "      <th>text</th>\n",
       "      <th>n_tokens</th>\n",
       "    </tr>\n",
       "  </thead>\n",
       "  <tbody>\n",
       "    <tr>\n",
       "      <th>0</th>\n",
       "      <td>[95240, 292, 320, 2550, 22, 4632, 8]</td>\n",
       "      <td>[95240, 292, 374, 264, 220, 2550, 22, 3778, 25...</td>\n",
       "      <td>18377</td>\n",
       "    </tr>\n",
       "    <tr>\n",
       "      <th>1</th>\n",
       "      <td>[35, 321, 86, 1604, 63715, 71, 9345, 2009, 194...</td>\n",
       "      <td>[35, 321, 86, 1604, 63715, 71, 9345, 2009, 194...</td>\n",
       "      <td>7191</td>\n",
       "    </tr>\n",
       "    <tr>\n",
       "      <th>2</th>\n",
       "      <td>[42, 2234, 30353, 86550, 273]</td>\n",
       "      <td>[42, 2234, 30353, 86550, 273, 320, 46023, 25, ...</td>\n",
       "      <td>7002</td>\n",
       "    </tr>\n",
       "    <tr>\n",
       "      <th>3</th>\n",
       "      <td>[35, 321, 28821, 76909, 63782]</td>\n",
       "      <td>[35, 321, 28821, 76909, 63782, 320, 1485, 75, ...</td>\n",
       "      <td>4123</td>\n",
       "    </tr>\n",
       "    <tr>\n",
       "      <th>4</th>\n",
       "      <td>[791, 11892]</td>\n",
       "      <td>[791, 11892, 374, 264, 220, 2550, 24, 8198, 17...</td>\n",
       "      <td>12745</td>\n",
       "    </tr>\n",
       "  </tbody>\n",
       "</table>\n",
       "</div>"
      ],
      "text/plain": [
       "                                               title   \n",
       "0               [95240, 292, 320, 2550, 22, 4632, 8]  \\\n",
       "1  [35, 321, 86, 1604, 63715, 71, 9345, 2009, 194...   \n",
       "2                      [42, 2234, 30353, 86550, 273]   \n",
       "3                     [35, 321, 28821, 76909, 63782]   \n",
       "4                                       [791, 11892]   \n",
       "\n",
       "                                                text  n_tokens  \n",
       "0  [95240, 292, 374, 264, 220, 2550, 22, 3778, 25...     18377  \n",
       "1  [35, 321, 86, 1604, 63715, 71, 9345, 2009, 194...      7191  \n",
       "2  [42, 2234, 30353, 86550, 273, 320, 46023, 25, ...      7002  \n",
       "3  [35, 321, 28821, 76909, 63782, 320, 1485, 75, ...      4123  \n",
       "4  [791, 11892, 374, 264, 220, 2550, 24, 8198, 17...     12745  "
      ]
     },
     "execution_count": 5,
     "metadata": {},
     "output_type": "execute_result"
    }
   ],
   "source": [
    "import tiktoken\n",
    "\n",
    "# Load the cl100k_base tokenizer which is designed to work with the ada-002 model\n",
    "tokenizer = tiktoken.get_encoding(\"cl100k_base\")\n",
    "\n",
    "# Tokenize the text and save the number of tokens to a new column\n",
    "df[\"title\"] = df.title.apply(tokenizer.encode)\n",
    "df[\"text\"] = df.text.apply(tokenizer.encode)\n",
    "df['n_tokens'] = df.text.apply(len)\n",
    "\n",
    "df.head()"
   ]
  },
  {
   "attachments": {},
   "cell_type": "markdown",
   "metadata": {},
   "source": [
    "## Load to Qdrant"
   ]
  },
  {
   "cell_type": "code",
   "execution_count": 9,
   "metadata": {},
   "outputs": [
    {
     "data": {
      "text/plain": [
       "True"
      ]
     },
     "execution_count": 9,
     "metadata": {},
     "output_type": "execute_result"
    }
   ],
   "source": [
    "from qdrant_client.http import models as rest\n",
    "\n",
    "vector_size = len(df[\"title\"][0])\n",
    "\n",
    "client.recreate_collection(\n",
    "    collection_name=\"Articles\",\n",
    "    vectors_config={\n",
    "        \"title\": rest.VectorParams(\n",
    "            distance=rest.Distance.COSINE,\n",
    "            size=vector_size,\n",
    "        ),\n",
    "        \"text\": rest.VectorParams(\n",
    "            distance=rest.Distance.COSINE,\n",
    "            size=vector_size,\n",
    "        ),\n",
    "    }\n",
    ")"
   ]
  },
  {
   "cell_type": "code",
   "execution_count": 10,
   "metadata": {},
   "outputs": [
    {
     "ename": "_InactiveRpcError",
     "evalue": "<_InactiveRpcError of RPC that terminated with:\n\tstatus = StatusCode.INVALID_ARGUMENT\n\tdetails = \"Wrong input: Vector inserting error: expected dim: 7, got 7191\"\n\tdebug_error_string = \"UNKNOWN:Error received from peer ipv4:127.0.0.1:6334 {created_time:\"2023-04-12T09:25:27.970195765+00:00\", grpc_status:3, grpc_message:\"Wrong input: Vector inserting error: expected dim: 7, got 7191\"}\"\n>",
     "output_type": "error",
     "traceback": [
      "\u001b[0;31m---------------------------------------------------------------------------\u001b[0m",
      "\u001b[0;31m_InactiveRpcError\u001b[0m                         Traceback (most recent call last)",
      "Cell \u001b[0;32mIn[10], line 1\u001b[0m\n\u001b[0;32m----> 1\u001b[0m client\u001b[39m.\u001b[39;49mupsert(\n\u001b[1;32m      2\u001b[0m     collection_name\u001b[39m=\u001b[39;49m\u001b[39m\"\u001b[39;49m\u001b[39mArticles\u001b[39;49m\u001b[39m\"\u001b[39;49m,\n\u001b[1;32m      3\u001b[0m     points\u001b[39m=\u001b[39;49m[\n\u001b[1;32m      4\u001b[0m         rest\u001b[39m.\u001b[39;49mPointStruct(\n\u001b[1;32m      5\u001b[0m             \u001b[39mid\u001b[39;49m\u001b[39m=\u001b[39;49mk,\n\u001b[1;32m      6\u001b[0m             vector\u001b[39m=\u001b[39;49m{\n\u001b[1;32m      7\u001b[0m                 \u001b[39m\"\u001b[39;49m\u001b[39mtitle\u001b[39;49m\u001b[39m\"\u001b[39;49m: [\u001b[39mfloat\u001b[39;49m(i) \u001b[39mfor\u001b[39;49;00m i \u001b[39min\u001b[39;49;00m v[\u001b[39m\"\u001b[39;49m\u001b[39mtitle\u001b[39;49m\u001b[39m\"\u001b[39;49m]],\n\u001b[1;32m      8\u001b[0m                 \u001b[39m\"\u001b[39;49m\u001b[39mtext\u001b[39;49m\u001b[39m\"\u001b[39;49m: [\u001b[39mfloat\u001b[39;49m(i) \u001b[39mfor\u001b[39;49;00m i \u001b[39min\u001b[39;49;00m v[\u001b[39m\"\u001b[39;49m\u001b[39mtext\u001b[39;49m\u001b[39m\"\u001b[39;49m]],\n\u001b[1;32m      9\u001b[0m             },\n\u001b[1;32m     10\u001b[0m             payload\u001b[39m=\u001b[39;49mv\u001b[39m.\u001b[39;49mto_dict(),\n\u001b[1;32m     11\u001b[0m         )\n\u001b[1;32m     12\u001b[0m         \u001b[39mfor\u001b[39;49;00m k, v \u001b[39min\u001b[39;49;00m df\u001b[39m.\u001b[39;49miterrows()\n\u001b[1;32m     13\u001b[0m     ],\n\u001b[1;32m     14\u001b[0m )\n",
      "File \u001b[0;32m~/.local/lib/python3.10/site-packages/qdrant_client/qdrant_client.py:498\u001b[0m, in \u001b[0;36mQdrantClient.upsert\u001b[0;34m(self, collection_name, points, wait, ordering, **kwargs)\u001b[0m\n\u001b[1;32m    468\u001b[0m \u001b[39mdef\u001b[39;00m \u001b[39mupsert\u001b[39m(\n\u001b[1;32m    469\u001b[0m     \u001b[39mself\u001b[39m,\n\u001b[1;32m    470\u001b[0m     collection_name: \u001b[39mstr\u001b[39m,\n\u001b[0;32m   (...)\u001b[0m\n\u001b[1;32m    474\u001b[0m     \u001b[39m*\u001b[39m\u001b[39m*\u001b[39mkwargs: Any,\n\u001b[1;32m    475\u001b[0m ) \u001b[39m-\u001b[39m\u001b[39m>\u001b[39m types\u001b[39m.\u001b[39mUpdateResult:\n\u001b[1;32m    476\u001b[0m \u001b[39m    \u001b[39m\u001b[39m\"\"\"Update or insert a new point into the collection.\u001b[39;00m\n\u001b[1;32m    477\u001b[0m \n\u001b[1;32m    478\u001b[0m \u001b[39m    If point with given ID already exists - it will be overwritten.\u001b[39;00m\n\u001b[0;32m   (...)\u001b[0m\n\u001b[1;32m    496\u001b[0m \u001b[39m        Operation result\u001b[39;00m\n\u001b[1;32m    497\u001b[0m \u001b[39m    \"\"\"\u001b[39;00m\n\u001b[0;32m--> 498\u001b[0m     \u001b[39mreturn\u001b[39;00m \u001b[39mself\u001b[39;49m\u001b[39m.\u001b[39;49m_client\u001b[39m.\u001b[39;49mupsert(\n\u001b[1;32m    499\u001b[0m         collection_name\u001b[39m=\u001b[39;49mcollection_name, points\u001b[39m=\u001b[39;49mpoints, wait\u001b[39m=\u001b[39;49mwait, ordering\u001b[39m=\u001b[39;49mordering, \u001b[39m*\u001b[39;49m\u001b[39m*\u001b[39;49mkwargs\n\u001b[1;32m    500\u001b[0m     )\n",
      "File \u001b[0;32m~/.local/lib/python3.10/site-packages/qdrant_client/qdrant_remote.py:898\u001b[0m, in \u001b[0;36mQdrantRemote.upsert\u001b[0;34m(self, collection_name, points, wait, ordering, **kwargs)\u001b[0m\n\u001b[1;32m    895\u001b[0m \u001b[39mif\u001b[39;00m \u001b[39misinstance\u001b[39m(ordering, rest_models\u001b[39m.\u001b[39mWriteOrdering):\n\u001b[1;32m    896\u001b[0m     ordering \u001b[39m=\u001b[39m RestToGrpc\u001b[39m.\u001b[39mconvert_write_ordering(ordering)\n\u001b[0;32m--> 898\u001b[0m grpc_result \u001b[39m=\u001b[39m \u001b[39mself\u001b[39;49m\u001b[39m.\u001b[39;49mgrpc_points\u001b[39m.\u001b[39;49mUpsert(\n\u001b[1;32m    899\u001b[0m     grpc\u001b[39m.\u001b[39;49mUpsertPoints(\n\u001b[1;32m    900\u001b[0m         collection_name\u001b[39m=\u001b[39;49mcollection_name, wait\u001b[39m=\u001b[39;49mwait, points\u001b[39m=\u001b[39;49mpoints, ordering\u001b[39m=\u001b[39;49mordering\n\u001b[1;32m    901\u001b[0m     ),\n\u001b[1;32m    902\u001b[0m     timeout\u001b[39m=\u001b[39;49m\u001b[39mself\u001b[39;49m\u001b[39m.\u001b[39;49m_timeout,\n\u001b[1;32m    903\u001b[0m )\u001b[39m.\u001b[39mresult\n\u001b[1;32m    905\u001b[0m \u001b[39massert\u001b[39;00m grpc_result \u001b[39mis\u001b[39;00m \u001b[39mnot\u001b[39;00m \u001b[39mNone\u001b[39;00m, \u001b[39m\"\u001b[39m\u001b[39mUpsert returned None result\u001b[39m\u001b[39m\"\u001b[39m\n\u001b[1;32m    906\u001b[0m \u001b[39mreturn\u001b[39;00m GrpcToRest\u001b[39m.\u001b[39mconvert_update_result(grpc_result)\n",
      "File \u001b[0;32m~/.local/lib/python3.10/site-packages/grpc/_channel.py:1030\u001b[0m, in \u001b[0;36m_UnaryUnaryMultiCallable.__call__\u001b[0;34m(self, request, timeout, metadata, credentials, wait_for_ready, compression)\u001b[0m\n\u001b[1;32m   1021\u001b[0m \u001b[39mdef\u001b[39;00m \u001b[39m__call__\u001b[39m(\u001b[39mself\u001b[39m,\n\u001b[1;32m   1022\u001b[0m              request: Any,\n\u001b[1;32m   1023\u001b[0m              timeout: Optional[\u001b[39mfloat\u001b[39m] \u001b[39m=\u001b[39m \u001b[39mNone\u001b[39;00m,\n\u001b[0;32m   (...)\u001b[0m\n\u001b[1;32m   1026\u001b[0m              wait_for_ready: Optional[\u001b[39mbool\u001b[39m] \u001b[39m=\u001b[39m \u001b[39mNone\u001b[39;00m,\n\u001b[1;32m   1027\u001b[0m              compression: Optional[grpc\u001b[39m.\u001b[39mCompression] \u001b[39m=\u001b[39m \u001b[39mNone\u001b[39;00m) \u001b[39m-\u001b[39m\u001b[39m>\u001b[39m Any:\n\u001b[1;32m   1028\u001b[0m     state, call, \u001b[39m=\u001b[39m \u001b[39mself\u001b[39m\u001b[39m.\u001b[39m_blocking(request, timeout, metadata, credentials,\n\u001b[1;32m   1029\u001b[0m                                   wait_for_ready, compression)\n\u001b[0;32m-> 1030\u001b[0m     \u001b[39mreturn\u001b[39;00m _end_unary_response_blocking(state, call, \u001b[39mFalse\u001b[39;49;00m, \u001b[39mNone\u001b[39;49;00m)\n",
      "File \u001b[0;32m~/.local/lib/python3.10/site-packages/grpc/_channel.py:910\u001b[0m, in \u001b[0;36m_end_unary_response_blocking\u001b[0;34m(state, call, with_call, deadline)\u001b[0m\n\u001b[1;32m    908\u001b[0m         \u001b[39mreturn\u001b[39;00m state\u001b[39m.\u001b[39mresponse\n\u001b[1;32m    909\u001b[0m \u001b[39melse\u001b[39;00m:\n\u001b[0;32m--> 910\u001b[0m     \u001b[39mraise\u001b[39;00m _InactiveRpcError(state)\n",
      "\u001b[0;31m_InactiveRpcError\u001b[0m: <_InactiveRpcError of RPC that terminated with:\n\tstatus = StatusCode.INVALID_ARGUMENT\n\tdetails = \"Wrong input: Vector inserting error: expected dim: 7, got 7191\"\n\tdebug_error_string = \"UNKNOWN:Error received from peer ipv4:127.0.0.1:6334 {created_time:\"2023-04-12T09:25:27.970195765+00:00\", grpc_status:3, grpc_message:\"Wrong input: Vector inserting error: expected dim: 7, got 7191\"}\"\n>"
     ]
    }
   ],
   "source": [
    "client.upsert(\n",
    "    collection_name=\"Articles\",\n",
    "    points=[\n",
    "        rest.PointStruct(\n",
    "            id=k,\n",
    "            vector={\n",
    "                \"title\": [float(i) for i in v[\"title\"]],\n",
    "                \"text\": [float(i) for i in v[\"text\"]],\n",
    "            },\n",
    "            payload=v.to_dict(),\n",
    "        )\n",
    "        for k, v in df.iterrows()\n",
    "    ],\n",
    ")"
   ]
  },
  {
   "cell_type": "code",
   "execution_count": null,
   "metadata": {},
   "outputs": [],
   "source": []
  }
 ],
 "metadata": {
  "kernelspec": {
   "display_name": "Python 3",
   "language": "python",
   "name": "python3"
  },
  "language_info": {
   "codemirror_mode": {
    "name": "ipython",
    "version": 3
   },
   "file_extension": ".py",
   "mimetype": "text/x-python",
   "name": "python",
   "nbconvert_exporter": "python",
   "pygments_lexer": "ipython3",
   "version": "3.10.10"
  },
  "orig_nbformat": 4
 },
 "nbformat": 4,
 "nbformat_minor": 2
}
