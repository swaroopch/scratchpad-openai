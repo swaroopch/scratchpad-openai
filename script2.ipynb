{
 "cells": [
  {
   "attachments": {},
   "cell_type": "markdown",
   "metadata": {},
   "source": [
    "# How to build an AI that can answer questions about your website\n",
    "\n",
    "https://platform.openai.com/docs/tutorials/web-qa-embeddings"
   ]
  },
  {
   "cell_type": "code",
   "execution_count": 1,
   "metadata": {},
   "outputs": [],
   "source": [
    "# TODO: https://platform.openai.com/docs/tutorials/web-qa-embeddings\n",
    "# Maybe https://developer.doordash.com/en-US/docs/welcome\n",
    "# https://github.com/openai/openai-cookbook/tree/main/apps/web-crawl-q-and-a\n",
    "# https://github.com/openai/tiktoken\n"
   ]
  },
  {
   "cell_type": "code",
   "execution_count": null,
   "metadata": {},
   "outputs": [],
   "source": []
  }
 ],
 "metadata": {
  "kernelspec": {
   "display_name": "Python 3",
   "language": "python",
   "name": "python3"
  },
  "language_info": {
   "codemirror_mode": {
    "name": "ipython",
    "version": 3
   },
   "file_extension": ".py",
   "mimetype": "text/x-python",
   "name": "python",
   "nbconvert_exporter": "python",
   "pygments_lexer": "ipython3",
   "version": "3.10.10"
  },
  "orig_nbformat": 4
 },
 "nbformat": 4,
 "nbformat_minor": 2
}
